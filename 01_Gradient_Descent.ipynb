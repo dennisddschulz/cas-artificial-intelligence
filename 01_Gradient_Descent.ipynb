{
  "nbformat": 4,
  "nbformat_minor": 0,
  "metadata": {
    "kernelspec": {
      "display_name": "Python 3",
      "language": "python",
      "name": "python3"
    },
    "language_info": {
      "codemirror_mode": {
        "name": "ipython",
        "version": 3
      },
      "file_extension": ".py",
      "mimetype": "text/x-python",
      "name": "python",
      "nbconvert_exporter": "python",
      "pygments_lexer": "ipython3",
      "version": "3.6.5"
    },
    "colab": {
      "provenance": [],
      "include_colab_link": true
    }
  },
  "cells": [
    {
      "cell_type": "markdown",
      "metadata": {
        "id": "view-in-github",
        "colab_type": "text"
      },
      "source": [
        "<a href=\"https://colab.research.google.com/github/dennisddschulz/cas-artificial-intelligence/blob/main/01_Gradient_Descent.ipynb\" target=\"_parent\"><img src=\"https://colab.research.google.com/assets/colab-badge.svg\" alt=\"Open In Colab\"/></a>"
      ]
    },
    {
      "cell_type": "markdown",
      "source": [
        "## Manuell"
      ],
      "metadata": {
        "id": "0dsLhRKWNc-8"
      }
    },
    {
      "cell_type": "code",
      "metadata": {
        "id": "eq3WmXsBC5l1"
      },
      "source": [
        "import numpy as np"
      ],
      "execution_count": null,
      "outputs": []
    },
    {
      "cell_type": "markdown",
      "source": [
        "- Natürliche Zahlen\n",
        "- Ganze Zahlen\n",
        "- Rationale Zahlen\n",
        "- Rationale Zahlen und Irrationale Zahlen - > R\n",
        "- Complexe Zahlen (Quantum Comp und Frequenz-Analyse) -> C schliesst R ein"
      ],
      "metadata": {
        "id": "3o7ntaanJL7M"
      }
    },
    {
      "cell_type": "code",
      "metadata": {
        "id": "THF8UAiAC5ml"
      },
      "source": [
        "X = [1,2,3,4,5,6,7,8,9,10]\n",
        "X = np.array(X).astype(np.float32)"
      ],
      "execution_count": null,
      "outputs": []
    },
    {
      "cell_type": "code",
      "source": [
        "X"
      ],
      "metadata": {
        "colab": {
          "base_uri": "https://localhost:8080/"
        },
        "id": "wQDuAIuFIsI7",
        "outputId": "0d9dbd82-a1fa-4ad9-fa66-5d5ff7b72b3e"
      },
      "execution_count": null,
      "outputs": [
        {
          "output_type": "execute_result",
          "data": {
            "text/plain": [
              "array([ 1.,  2.,  3.,  4.,  5.,  6.,  7.,  8.,  9., 10.], dtype=float32)"
            ]
          },
          "metadata": {},
          "execution_count": 4
        }
      ]
    },
    {
      "cell_type": "code",
      "source": [
        "X = np.arange(1,11).astype(np.float32)\n",
        "X"
      ],
      "metadata": {
        "colab": {
          "base_uri": "https://localhost:8080/"
        },
        "id": "Y80ILHwyrDmp",
        "outputId": "943bb4b9-90e8-4a91-860c-632ff6cf3def"
      },
      "execution_count": null,
      "outputs": [
        {
          "output_type": "execute_result",
          "data": {
            "text/plain": [
              "array([ 1.,  2.,  3.,  4.,  5.,  6.,  7.,  8.,  9., 10.], dtype=float32)"
            ]
          },
          "metadata": {},
          "execution_count": 5
        }
      ]
    },
    {
      "cell_type": "code",
      "source": [
        "np.linspace(1, 10, 10)"
      ],
      "metadata": {
        "colab": {
          "base_uri": "https://localhost:8080/"
        },
        "id": "gk3n0J1csPrB",
        "outputId": "8e10628d-8b0b-48c0-cfe7-1f1fdecfb6da"
      },
      "execution_count": null,
      "outputs": [
        {
          "output_type": "execute_result",
          "data": {
            "text/plain": [
              "array([ 1.,  2.,  3.,  4.,  5.,  6.,  7.,  8.,  9., 10.])"
            ]
          },
          "metadata": {},
          "execution_count": 6
        }
      ]
    },
    {
      "cell_type": "code",
      "source": [],
      "metadata": {
        "id": "AYza_9R1Kz3C"
      },
      "execution_count": null,
      "outputs": []
    },
    {
      "cell_type": "code",
      "metadata": {
        "id": "02u2cCkhC5mt",
        "colab": {
          "base_uri": "https://localhost:8080/"
        },
        "outputId": "8cbd0064-8904-4425-a429-2bb3c646760b"
      },
      "source": [
        "# List comprehension\n",
        "Y = [2*x + 6 for x in X]\n",
        "print(Y)"
      ],
      "execution_count": null,
      "outputs": [
        {
          "output_type": "stream",
          "name": "stdout",
          "text": [
            "[8.0, 10.0, 12.0, 14.0, 16.0, 18.0, 20.0, 22.0, 24.0, 26.0]\n"
          ]
        }
      ]
    },
    {
      "cell_type": "markdown",
      "source": [
        "Wir erstellen hier eine Liste.\n",
        "[   ]\n",
        "\n",
        "2*x + 6 für jedes Element x in X"
      ],
      "metadata": {
        "id": "oa3-nR9CLIFd"
      }
    },
    {
      "cell_type": "code",
      "source": [
        "len(X)"
      ],
      "metadata": {
        "colab": {
          "base_uri": "https://localhost:8080/"
        },
        "id": "MW7wJO7IRKz9",
        "outputId": "be4dfffa-2411-4c60-bd1f-68f09faa1aae"
      },
      "execution_count": null,
      "outputs": [
        {
          "output_type": "execute_result",
          "data": {
            "text/plain": [
              "10"
            ]
          },
          "metadata": {},
          "execution_count": 50
        }
      ]
    },
    {
      "cell_type": "markdown",
      "source": [
        "(m_deriv\n",
        "b_deriv)\n",
        "m_deriv ist die partielle Ableitung nach m (Gewicht)\n",
        "b_deriv ist --- nach b (Bias)"
      ],
      "metadata": {
        "id": "jBCYT82xRU3Q"
      }
    },
    {
      "cell_type": "markdown",
      "metadata": {
        "id": "qcyTvIVdRCen"
      },
      "source": [
        "$MSE = 1/N\\sum_{i=0} ^N (Y_i - (mX_i + b))^2$\n",
        "\n",
        "\n",
        "\n"
      ]
    },
    {
      "cell_type": "code",
      "metadata": {
        "id": "NwRMFgkNGdOF"
      },
      "source": [
        "def update_weights(m, b, X, Y, learning_rate):\n",
        "    m_deriv = 0\n",
        "    b_deriv = 0\n",
        "    N = len(X)\n",
        "    # Ableitung MSE\n",
        "    for i in range(N): # pytorch - backward # gradient tape\n",
        "        # Calculate partial derivatives\n",
        "        # -x (innere Ableitung) * 2(y - (mx + b)) (äussere Ableitung)\n",
        "        m_deriv += -2*X[i] * (Y[i] - (m*X[i] + b))\n",
        "\n",
        "        # -2(y - (mx + b))\n",
        "        b_deriv += -2*(Y[i] - (m*X[i] + b))\n",
        "\n",
        "\n",
        "    # We subtract because the derivatives point in direction of steepest ascent\n",
        "    m -= (m_deriv / float(N)) * learning_rate # später - in pytorch step\n",
        "    b -= (b_deriv / float(N)) * learning_rate\n",
        "    history_m.append(m)\n",
        "    history_b.append(b)\n",
        "\n",
        "    return m,b\n"
      ],
      "execution_count": null,
      "outputs": []
    },
    {
      "cell_type": "code",
      "metadata": {
        "id": "v1OksWbTC5m1"
      },
      "source": [
        "def train(epochs, learning_rate:int)-> tuple[float, float]:\n",
        "    m=0\n",
        "    b=0\n",
        "    for epoch in range(epochs):\n",
        "        # abbruchskriterium - \"early stopping\"\n",
        "        m,b = update_weights(m, b, X, Y, learning_rate)\n",
        "        if epoch%200==0:\n",
        "          print(f\"Epoch: {epoch}, m: {m}, b: {b}\")\n",
        "    return m,b"
      ],
      "execution_count": null,
      "outputs": []
    },
    {
      "cell_type": "code",
      "metadata": {
        "id": "K1dfObBvEBZ-"
      },
      "source": [
        "epochs = 3000\n",
        "history_m = []\n",
        "history_b = []"
      ],
      "execution_count": null,
      "outputs": []
    },
    {
      "cell_type": "code",
      "metadata": {
        "id": "4WB7L5zkDmCp",
        "colab": {
          "base_uri": "https://localhost:8080/"
        },
        "outputId": "45ab36b8-f18b-4f1e-abaa-ea040068bf46"
      },
      "source": [
        "train(epochs, learning_rate=1e-2)"
      ],
      "execution_count": null,
      "outputs": [
        {
          "output_type": "stream",
          "name": "stdout",
          "text": [
            "Epoch: 0, m: 2.2, b: 0.34\n",
            "Epoch: 200, m: 2.345054235925057, b: 3.5977937018081247\n",
            "Epoch: 400, m: 2.1487140244340046, b: 4.964679378106762\n",
            "Epoch: 600, m: 2.064093869197309, b: 5.553789867704444\n",
            "Epoch: 800, m: 2.0276236493788433, b: 5.807689059840105\n",
            "Epoch: 1000, m: 2.011905444538794, b: 5.917116409896572\n",
            "Epoch: 1200, m: 2.0051310964645697, b: 5.964278217855305\n",
            "Epoch: 1400, m: 2.002211437871381, b: 5.984604362359297\n",
            "Epoch: 1600, m: 2.0009531018355915, b: 5.993364674321015\n",
            "Epoch: 1800, m: 2.000410774872206, b: 5.9971402583060405\n",
            "Epoch: 2000, m: 2.0001770387899125, b: 5.998767487392202\n",
            "Epoch: 2200, m: 2.000076301485934, b: 5.999468802608436\n",
            "Epoch: 2400, m: 2.0000328849782507, b: 5.999771060622812\n",
            "Epoch: 2600, m: 2.000014173010935, b: 5.9999013300154385\n",
            "Epoch: 2800, m: 2.0000061083889857, b: 5.999957474480918\n"
          ]
        },
        {
          "output_type": "execute_result",
          "data": {
            "text/plain": [
              "(2.000002643741119, 5.999981594743939)"
            ]
          },
          "metadata": {},
          "execution_count": 16
        }
      ]
    },
    {
      "cell_type": "code",
      "metadata": {
        "id": "X2aYNirqC5m_",
        "colab": {
          "base_uri": "https://localhost:8080/"
        },
        "outputId": "baf99679-4bc2-431d-b408-60f626174152"
      },
      "source": [
        "history_m[500]"
      ],
      "execution_count": null,
      "outputs": [
        {
          "output_type": "execute_result",
          "data": {
            "text/plain": [
              "2.0976302065442782"
            ]
          },
          "metadata": {},
          "execution_count": 59
        }
      ]
    },
    {
      "cell_type": "code",
      "metadata": {
        "id": "3iveKxlzC5nE",
        "colab": {
          "base_uri": "https://localhost:8080/"
        },
        "outputId": "efd0d3aa-7eea-4bfb-9eb8-73f17c96c3e5"
      },
      "source": [
        "history_b[1999]"
      ],
      "execution_count": null,
      "outputs": [
        {
          "output_type": "execute_result",
          "data": {
            "text/plain": [
              "5.998762289578513"
            ]
          },
          "metadata": {},
          "execution_count": 17
        }
      ]
    },
    {
      "cell_type": "code",
      "metadata": {
        "id": "nFweka_OC5nL"
      },
      "source": [
        "import matplotlib.pyplot as plt\n",
        "plt.rcdefaults()\n",
        "from pylab import rcParams\n",
        "%matplotlib inline"
      ],
      "execution_count": null,
      "outputs": []
    },
    {
      "cell_type": "code",
      "metadata": {
        "id": "8wEgA9THC5nR",
        "colab": {
          "base_uri": "https://localhost:8080/",
          "height": 706
        },
        "outputId": "15cc40dd-865e-41ec-8815-211d9b5fd673"
      },
      "source": [
        "\n",
        "plt.figure(figsize=(12,8))\n",
        "plt.plot(history_m[0:epochs])\n",
        "plt.plot(history_b[0:epochs])\n",
        "\n",
        "plt.axhline(y=2, xmin=0, xmax=epochs, c='r', linewidth=4,linestyle='--')\n",
        "plt.axhline(y=6, xmin=0, xmax=epochs, c='b', linewidth=4, linestyle=':')\n",
        "plt.ylabel('m',fontsize= 18)\n",
        "plt.xlabel('b',fontsize= 18)\n",
        "plt.legend(['m', 'b'], loc='upper right', fontsize= 18);"
      ],
      "execution_count": null,
      "outputs": [
        {
          "output_type": "display_data",
          "data": {
            "text/plain": [
              "<Figure size 1200x800 with 1 Axes>"
            ],
            "image/png": "[encoded data removed]"
          },
          "metadata": {}
        }
      ]
    },
    {
      "cell_type": "code",
      "metadata": {
        "id": "khRjikcVC5nW"
      },
      "source": [
        "import torch\n",
        "from torch import nn"
      ],
      "execution_count": null,
      "outputs": []
    },
    {
      "cell_type": "code",
      "source": [
        "X, Y"
      ],
      "metadata": {
        "colab": {
          "base_uri": "https://localhost:8080/"
        },
        "id": "A3ZE9FHEIvII",
        "outputId": "f188ddf6-a4dc-47e5-e51a-19b3033ffb60"
      },
      "execution_count": null,
      "outputs": [
        {
          "output_type": "execute_result",
          "data": {
            "text/plain": [
              "(array([ 1.,  2.,  3.,  4.,  5.,  6.,  7.,  8.,  9., 10.], dtype=float32),\n",
              " [8.0, 10.0, 12.0, 14.0, 16.0, 18.0, 20.0, 22.0, 24.0, 26.0])"
            ]
          },
          "metadata": {},
          "execution_count": 73
        }
      ]
    },
    {
      "cell_type": "markdown",
      "source": [
        "## Mit PyTorch"
      ],
      "metadata": {
        "id": "gL4MDF9CNi6-"
      }
    },
    {
      "cell_type": "markdown",
      "source": [
        "### Aufgabe 1:\n",
        "1. Eigene function definieren mit ZWEI vars\n",
        "2. Andere X und Y werte\n",
        "3. LR varieren und das training beobachten (zu hohe, zu niedrige LR)\n",
        "  - Macht ein LR range [from, to] - z.B. for loop\n",
        "  - nimmt das beste LR (minimaler Loss, keine NaNs)\n",
        "  - \"Grid Search\"\n",
        "4. Plot die wahre und die predictete Funtionen gegeneinander"
      ],
      "metadata": {
        "id": "4lRermkfQdzd"
      }
    },
    {
      "cell_type": "code",
      "source": [
        "# -*- coding: utf-8 -*-\n",
        "import torch\n",
        "import math\n",
        "\n",
        "dtype = torch.float\n",
        "device = \"cuda\" if torch.cuda.is_available() else \"cpu\"\n",
        "torch.set_default_device(device)\n",
        "\n",
        "# Create Tensors to hold input and outputs.\n",
        "# By default, requires_grad=False, which indicates that we do not need to\n",
        "# compute gradients with respect to these Tensors during the backward pass.\n",
        "x = torch.linspace(1, 10, 10, dtype=dtype)\n",
        "y = 2*x + 6\n",
        "\n",
        "# Create random Tensors for weights.\n",
        "# 2 weights: a and b\n",
        "# Setting requires_grad=True indicates that we want to compute gradients with\n",
        "# respect to these Tensors during the backward pass.\n",
        "a = torch.randn((), dtype=dtype, requires_grad=True)\n",
        "b = torch.randn((), dtype=dtype, requires_grad=True)\n",
        "\n",
        "learning_rate = 1e-3\n",
        "for t in range(2000):\n",
        "    # Forward pass: compute predicted y using operations on Tensors.\n",
        "    y_pred = a*x + b\n",
        "\n",
        "    # Compute and print loss using operations on Tensors.\n",
        "    # Now loss is a Tensor of shape (1,)\n",
        "    # loss.item() gets the scalar value held in the loss.\n",
        "    loss = (y_pred - y).pow(2).sum()\n",
        "    if t % 100 == 0:\n",
        "        print(t, loss.item())\n",
        "\n",
        "    # Use autograd to compute the backward pass. This call will compute the\n",
        "    # gradient of loss with respect to all Tensors with requires_grad=True.\n",
        "    # After this call a.grad, b.grad. c.grad and d.grad will be Tensors holding\n",
        "    # the gradient of the loss with respect to a, b, c, d respectively.\n",
        "    loss.backward()\n",
        "\n",
        "    # Manually update weights using gradient descent. Wrap in torch.no_grad()\n",
        "    # because weights have requires_grad=True, but we don't need to track this\n",
        "    # in autograd.\n",
        "    with torch.no_grad():\n",
        "        a -= learning_rate * a.grad\n",
        "        b -= learning_rate * b.grad\n",
        "\n",
        "\n",
        "        # Manually zero the gradients after updating weights\n",
        "        a.grad = None\n",
        "        b.grad = None\n",
        "\n",
        "\n",
        "print(f'Result: y = {a.item()} + {b.item()} x')"
      ],
      "metadata": {
        "colab": {
          "base_uri": "https://localhost:8080/"
        },
        "id": "dLK9ilkHJUUF",
        "outputId": "3fc3c2a1-f094-4094-8be5-921f703c55a2"
      },
      "execution_count": null,
      "outputs": [
        {
          "output_type": "stream",
          "name": "stdout",
          "text": [
            "0 122.40975952148438\n",
            "100 28.65900230407715\n",
            "200 12.351658821105957\n",
            "300 5.3234171867370605\n",
            "400 2.2943193912506104\n",
            "500 0.9888259172439575\n",
            "600 0.42617329955101013\n",
            "700 0.1836758255958557\n",
            "800 0.0791618600487709\n",
            "900 0.034117262810468674\n",
            "1000 0.01470418181270361\n",
            "1100 0.006337410304695368\n",
            "1200 0.00273139332421124\n",
            "1300 0.0011773051228374243\n",
            "1400 0.0005074546788819134\n",
            "1500 0.00021875405218452215\n",
            "1600 9.42852784646675e-05\n",
            "1700 4.061705112690106e-05\n",
            "1800 1.7507863958599046e-05\n",
            "1900 7.5416837717057206e-06\n",
            "Result: y = 2.0001769065856934 + 5.998767852783203 x\n"
          ]
        }
      ]
    },
    {
      "cell_type": "markdown",
      "metadata": {
        "id": "lkGInNnhDiVb"
      },
      "source": [
        "## Mit PyTorch und für komplexe nicht-lineare Funktion\n"
      ]
    },
    {
      "cell_type": "markdown",
      "source": [
        "### Aufgabe 2\n",
        "1. Define own non-linear function\n",
        "2. 5 weights y = a + b x + c x^2 + d x^3 +c x^4\n",
        "3. In case grade 4 is not enough, try grade 5\n",
        "4. Plot the results in each case real function vs approximation"
      ],
      "metadata": {
        "id": "6rEp7x3RQywX"
      }
    },
    {
      "cell_type": "code",
      "source": [
        "# -*- coding: utf-8 -*-\n",
        "import torch\n",
        "import math\n",
        "\n",
        "dtype = torch.float\n",
        "device = \"cuda\" if torch.cuda.is_available() else \"cpu\"\n",
        "torch.set_default_device(device)\n",
        "\n",
        "# Create Tensors to hold input and outputs.\n",
        "# By default, requires_grad=False, which indicates that we do not need to\n",
        "# compute gradients with respect to these Tensors during the backward pass.\n",
        "x = torch.linspace(-math.pi, math.pi, 2000, dtype=dtype)\n",
        "y = torch.sin(x)\n",
        "\n",
        "\n",
        "# Create random Tensors for weights. For a third order polynomial, we need\n",
        "# 4 weights: y = a + b x + c x^2 + d x^3\n",
        "# Setting requires_grad=True indicates that we want to compute gradients with\n",
        "# respect to these Tensors during the backward pass.\n",
        "a = torch.randn((), dtype=dtype, requires_grad=True)\n",
        "b = torch.randn((), dtype=dtype, requires_grad=True)\n",
        "c = torch.randn((), dtype=dtype, requires_grad=True)\n",
        "d = torch.randn((), dtype=dtype, requires_grad=True)\n",
        "\n",
        "learning_rate = 1e-6\n",
        "for t in range(2000):\n",
        "    # Forward pass: compute predicted y using operations on Tensors.\n",
        "    y_pred = a + b * x + c * x ** 2 + d * x ** 3\n",
        "\n",
        "    # Compute and print loss using operations on Tensors.\n",
        "    # Now loss is a Tensor of shape (1,)\n",
        "    # loss.item() gets the scalar value held in the loss.\n",
        "    loss = (y_pred - y).pow(2).sum()\n",
        "    if t % 100 == 99:\n",
        "        print(t, loss.item())\n",
        "\n",
        "    # Use autograd to compute the backward pass. This call will compute the\n",
        "    # gradient of loss with respect to all Tensors with requires_grad=True.\n",
        "    # After this call a.grad, b.grad. c.grad and d.grad will be Tensors holding\n",
        "    # the gradient of the loss with respect to a, b, c, d respectively.\n",
        "    loss.backward()\n",
        "\n",
        "    # Manually update weights using gradient descent. Wrap in torch.no_grad()\n",
        "    # because weights have requires_grad=True, but we don't need to track this\n",
        "    # in autograd.\n",
        "    with torch.no_grad():\n",
        "        a -= learning_rate * a.grad\n",
        "        b -= learning_rate * b.grad\n",
        "        c -= learning_rate * c.grad\n",
        "        d -= learning_rate * d.grad\n",
        "\n",
        "        # Manually zero the gradients after updating weights\n",
        "        a.grad = None\n",
        "        b.grad = None\n",
        "        c.grad = None\n",
        "        d.grad = None\n",
        "\n",
        "print(f'Result: y = {a.item()} + {b.item()} x + {c.item()} x^2 + {d.item()} x^3')"
      ],
      "metadata": {
        "colab": {
          "base_uri": "https://localhost:8080/"
        },
        "id": "3NDW6V3BNyhe",
        "outputId": "d766f65c-cef2-40ff-9174-e9c4441ccf88"
      },
      "execution_count": null,
      "outputs": [
        {
          "output_type": "stream",
          "name": "stdout",
          "text": [
            "99 5411.005859375\n",
            "199 3692.114013671875\n",
            "299 2523.020751953125\n",
            "399 1726.9732666015625\n",
            "499 1184.3204345703125\n",
            "599 813.9808959960938\n",
            "699 560.9485473632812\n",
            "799 387.86676025390625\n",
            "899 269.33740234375\n",
            "999 188.0731964111328\n",
            "1099 132.2946319580078\n",
            "1199 93.96556854248047\n",
            "1299 67.59762573242188\n",
            "1399 49.43797302246094\n",
            "1499 36.91765594482422\n",
            "1599 28.276100158691406\n",
            "1699 22.30535316467285\n",
            "1799 18.175662994384766\n",
            "1899 15.316450119018555\n",
            "1999 13.33485221862793\n",
            "Result: y = 0.06131579726934433 + 0.8236032128334045 x + -0.010577995330095291 x^2 + -0.08861684799194336 x^3\n"
          ]
        }
      ]
    },
    {
      "cell_type": "markdown",
      "source": [
        "## Mit PyTorch und nn module"
      ],
      "metadata": {
        "id": "Mw4G4NIKOHgl"
      }
    },
    {
      "cell_type": "markdown",
      "source": [
        "### Aufgabe 3 (wenn 1 und 2 fertig sind) - optional\n",
        "1. Wie Augabe 2 nur mit nn lösen (d.h. zu approximierende Funktion, gleiche Werte, gleicher Polynom) - nur alles mit nn alalog dem Bespiel unten\n",
        "\n",
        "2. Loss während dem Training plotten"
      ],
      "metadata": {
        "id": "JKPiMDySRiR7"
      }
    },
    {
      "cell_type": "code",
      "source": [],
      "metadata": {
        "id": "WfDPbaYBRf28"
      },
      "execution_count": null,
      "outputs": []
    },
    {
      "cell_type": "code",
      "source": [
        "# -*- coding: utf-8 -*-\n",
        "import torch\n",
        "import math\n",
        "\n",
        "\n",
        "# Create Tensors to hold input and outputs.\n",
        "x = torch.linspace(-math.pi, math.pi, 2000)\n",
        "y = torch.sin(x)"
      ],
      "metadata": {
        "id": "yzSqgyQBN0jC"
      },
      "execution_count": null,
      "outputs": []
    },
    {
      "cell_type": "code",
      "source": [
        "x.shape"
      ],
      "metadata": {
        "colab": {
          "base_uri": "https://localhost:8080/"
        },
        "id": "EcpHODHPOgiX",
        "outputId": "65af47bc-d345-409e-a19b-818aa3ef0b35"
      },
      "execution_count": null,
      "outputs": [
        {
          "output_type": "execute_result",
          "data": {
            "text/plain": [
              "torch.Size([2000])"
            ]
          },
          "metadata": {},
          "execution_count": 24
        }
      ]
    },
    {
      "cell_type": "code",
      "source": [
        "# p = torch.tensor([1, 2, 3])\n",
        "x.unsqueeze(-1).shape"
      ],
      "metadata": {
        "colab": {
          "base_uri": "https://localhost:8080/"
        },
        "id": "Cz_tlg8WOnfK",
        "outputId": "711ab959-d86c-4357-ddba-240baf007ad9"
      },
      "execution_count": null,
      "outputs": [
        {
          "output_type": "execute_result",
          "data": {
            "text/plain": [
              "torch.Size([2000, 1])"
            ]
          },
          "metadata": {},
          "execution_count": 25
        }
      ]
    },
    {
      "cell_type": "code",
      "source": [
        "# For this example, the output y is a linear function of (x, x^2, x^3), so\n",
        "# we can consider it as a linear layer neural network. Let's prepare the\n",
        "# tensor (x, x^2, x^3).\n",
        "p = torch.tensor([1, 2, 3])\n",
        "xx = x.unsqueeze(-1).pow(p)\n",
        "xx"
      ],
      "metadata": {
        "colab": {
          "base_uri": "https://localhost:8080/"
        },
        "id": "29xCIR99Od-o",
        "outputId": "df710480-6b36-4ec2-8bb2-14679badef27"
      },
      "execution_count": null,
      "outputs": [
        {
          "output_type": "execute_result",
          "data": {
            "text/plain": [
              "tensor([[ -3.1416,   9.8696, -31.0063],\n",
              "        [ -3.1384,   9.8499, -30.9133],\n",
              "        [ -3.1353,   9.8301, -30.8205],\n",
              "        ...,\n",
              "        [  3.1353,   9.8301,  30.8205],\n",
              "        [  3.1384,   9.8499,  30.9133],\n",
              "        [  3.1416,   9.8696,  31.0063]])"
            ]
          },
          "metadata": {},
          "execution_count": 28
        }
      ]
    },
    {
      "cell_type": "code",
      "source": [
        "fc = torch.nn.Linear(3, 1)\n",
        "fc(xx).shape"
      ],
      "metadata": {
        "id": "oakQuVmTQVNi",
        "colab": {
          "base_uri": "https://localhost:8080/"
        },
        "outputId": "6248a29e-a5fb-4747-852b-16c0d16cd1d6"
      },
      "execution_count": null,
      "outputs": [
        {
          "output_type": "execute_result",
          "data": {
            "text/plain": [
              "torch.Size([2000, 1])"
            ]
          },
          "metadata": {},
          "execution_count": 31
        }
      ]
    },
    {
      "cell_type": "code",
      "source": [
        "flat = torch.nn.Flatten(0,1)"
      ],
      "metadata": {
        "id": "epiVkjtE3iVD"
      },
      "execution_count": null,
      "outputs": []
    },
    {
      "cell_type": "code",
      "source": [
        "out = fc(xx)\n",
        "out.shape"
      ],
      "metadata": {
        "colab": {
          "base_uri": "https://localhost:8080/"
        },
        "id": "ZIQXow0yQcy9",
        "outputId": "ce15e279-b32a-47bd-aba7-cdc6d8bafb93"
      },
      "execution_count": null,
      "outputs": [
        {
          "output_type": "execute_result",
          "data": {
            "text/plain": [
              "torch.Size([2000, 1])"
            ]
          },
          "metadata": {},
          "execution_count": 95
        }
      ]
    },
    {
      "cell_type": "code",
      "source": [
        "flat(out).shape"
      ],
      "metadata": {
        "colab": {
          "base_uri": "https://localhost:8080/"
        },
        "id": "aLflT6QyQsjM",
        "outputId": "5953d563-0f25-4442-a3cc-4b8ec1f9310b"
      },
      "execution_count": null,
      "outputs": [
        {
          "output_type": "execute_result",
          "data": {
            "text/plain": [
              "torch.Size([2000])"
            ]
          },
          "metadata": {},
          "execution_count": 96
        }
      ]
    },
    {
      "cell_type": "code",
      "source": [
        "\n",
        "# In the above code, x.unsqueeze(-1) has shape (2000, 1), and p has shape\n",
        "# (3,), for this case, broadcasting semantics will apply to obtain a tensor\n",
        "# of shape (2000, 3)\n",
        "\n",
        "# Use the nn package to define our model as a sequence of layers. nn.Sequential\n",
        "# is a Module which contains other Modules, and applies them in sequence to\n",
        "# produce its output. The Linear Module computes output from input using a\n",
        "# linear function, and holds internal Tensors for its weight and bias.\n",
        "# The Flatten layer flatens the output of the linear layer to a 1D tensor,\n",
        "# to match the shape of `y`.\n",
        "model = torch.nn.Sequential(\n",
        "    torch.nn.Linear(3, 1),\n",
        "    torch.nn.Flatten(0, 1),\n",
        "\n",
        ")\n",
        "\n",
        "# The nn package also contains definitions of popular loss functions; in this\n",
        "# case we will use Mean Squared Error (MSE) as our loss function.\n",
        "loss_fn = torch.nn.MSELoss(reduction='sum')\n",
        "\n",
        "learning_rate = 1e-6\n",
        "for t in range(2000):\n",
        "\n",
        "    # Forward pass: compute predicted y by passing x to the model. Module objects\n",
        "    # override the __call__ operator so you can call them like functions. When\n",
        "    # doing so you pass a Tensor of input data to the Module and it produces\n",
        "    # a Tensor of output data.\n",
        "    y_pred = model(xx)\n",
        "\n",
        "    # Compute and print loss. We pass Tensors containing the predicted and true\n",
        "    # values of y, and the loss function returns a Tensor containing the\n",
        "    # loss.\n",
        "    loss = loss_fn(y_pred, y)\n",
        "    if t % 100 == 99:\n",
        "        print(t, loss.item())\n",
        "\n",
        "    # Zero the gradients before running the backward pass.\n",
        "    model.zero_grad()\n",
        "\n",
        "    # Backward pass: compute gradient of the loss with respect to all the learnable\n",
        "    # parameters of the model. Internally, the parameters of each Module are stored\n",
        "    # in Tensors with requires_grad=True, so this call will compute gradients for\n",
        "    # all learnable parameters in the model.\n",
        "    loss.backward()\n",
        "\n",
        "    # Update the weights using gradient descent. Each parameter is a Tensor, so\n",
        "    # we can access its gradients like we did before.\n",
        "    with torch.no_grad():\n",
        "        for param in model.parameters():\n",
        "            param -= learning_rate * param.grad\n",
        "\n",
        "# You can access the first layer of `model` like accessing the first item of a list\n",
        "linear_layer = model[0]\n",
        "\n",
        "# For linear layer, its parameters are stored as `weight` and `bias`.\n",
        "print(f'Result: y = {linear_layer.bias.item()} + {linear_layer.weight[:, 0].item()} x + {linear_layer.weight[:, 1].item()} x^2 + {linear_layer.weight[:, 2].item()} x^3')"
      ],
      "metadata": {
        "colab": {
          "base_uri": "https://localhost:8080/"
        },
        "id": "9GrNjsQdOSrf",
        "outputId": "726ba3a2-40ee-4f83-a762-8158bd70872c"
      },
      "execution_count": null,
      "outputs": [
        {
          "output_type": "stream",
          "name": "stdout",
          "text": [
            "99 836.1294555664062\n",
            "199 560.0737915039062\n",
            "299 376.3053283691406\n",
            "399 253.92047119140625\n",
            "499 172.37890625\n",
            "599 118.02490234375\n",
            "699 81.77565002441406\n",
            "799 57.58780288696289\n",
            "899 41.43978500366211\n",
            "999 30.6528377532959\n",
            "1099 23.44274139404297\n",
            "1199 18.620513916015625\n",
            "1299 15.393159866333008\n",
            "1399 13.231743812561035\n",
            "1499 11.78315544128418\n",
            "1599 10.811569213867188\n",
            "1699 10.159427642822266\n",
            "1799 9.721343040466309\n",
            "1899 9.426800727844238\n",
            "1999 9.228596687316895\n",
            "Result: y = 0.011916369199752808 + 0.8403390645980835 x + -0.002055770717561245 x^2 + -0.0909973755478859 x^3\n"
          ]
        }
      ]
    },
    {
      "cell_type": "markdown",
      "source": [
        "## ...mit einem Optimizer"
      ],
      "metadata": {
        "id": "_SyPKScHS1HJ"
      }
    },
    {
      "cell_type": "markdown",
      "source": [
        "### Aufgabe 4 (wenn 1, 2 und fertig sind) - optional\n",
        "1. Wie Augabe 3 nur mit nn **und Optimizer** lösen\n",
        "2. Loss während dem Training plotten und mit dem Plot von Aufgabe 3 vergleichen\n",
        "3. BONUS: Adam, RMSprop, SGD"
      ],
      "metadata": {
        "id": "-kJ2lXtbSLJB"
      }
    },
    {
      "cell_type": "code",
      "source": [
        "# -*- coding: utf-8 -*-\n",
        "import torch\n",
        "import math\n",
        "\n",
        "\n",
        "# Create Tensors to hold input and outputs.\n",
        "x = torch.linspace(-math.pi, math.pi, 2000)\n",
        "y = torch.sin(x)\n",
        "\n",
        "# Prepare the input tensor (x, x^2, x^3).\n",
        "p = torch.tensor([1, 2, 3])\n",
        "xx = x.unsqueeze(-1).pow(p)\n",
        "\n",
        "# Use the nn package to define our model and loss function.\n",
        "model = torch.nn.Sequential(\n",
        "    torch.nn.Linear(3, 1),\n",
        "    torch.nn.Flatten(0, 1)\n",
        ")\n",
        "loss_fn = torch.nn.MSELoss(reduction='sum')\n",
        "\n",
        "# Use the optim package to define an Optimizer that will update the weights of\n",
        "# the model for us. Here we will use RMSprop; the optim package contains many other\n",
        "# optimization algorithms. The first argument to the RMSprop constructor tells the\n",
        "# optimizer which Tensors it should update.\n",
        "learning_rate = 1e-3\n",
        "optimizer = torch.optim.RMSprop(model.parameters(), lr=learning_rate)\n",
        "for t in range(2000):\n",
        "    # Forward pass: compute predicted y by passing x to the model.\n",
        "    y_pred = model(xx)\n",
        "\n",
        "    # Compute and print loss.\n",
        "    loss = loss_fn(y_pred, y)\n",
        "    if t % 100 == 99:\n",
        "        print(t, loss.item())\n",
        "\n",
        "    # Before the backward pass, use the optimizer object to zero all of the\n",
        "    # gradients for the variables it will update (which are the learnable\n",
        "    # weights of the model). This is because by default, gradients are\n",
        "    # accumulated in buffers( i.e, not overwritten) whenever .backward()\n",
        "    # is called. Checkout docs of torch.autograd.backward for more details.\n",
        "    optimizer.zero_grad()\n",
        "\n",
        "    # Backward pass: compute gradient of the loss with respect to model\n",
        "    # parameters\n",
        "    loss.backward()\n",
        "\n",
        "    # Calling the step function on an Optimizer makes an update to its\n",
        "    # parameters\n",
        "    optimizer.step()\n",
        "\n",
        "\n",
        "linear_layer = model[0]\n",
        "print(f'Result: y = {linear_layer.bias.item()} + {linear_layer.weight[:, 0].item()} x + {linear_layer.weight[:, 1].item()} x^2 + {linear_layer.weight[:, 2].item()} x^3')"
      ],
      "metadata": {
        "colab": {
          "base_uri": "https://localhost:8080/"
        },
        "id": "r_8xGnn9S6Rb",
        "outputId": "06f8d865-bf1a-4e98-9124-a2dcec8149a5"
      },
      "execution_count": null,
      "outputs": [
        {
          "output_type": "stream",
          "name": "stdout",
          "text": [
            "99 8946.1953125\n",
            "199 2386.03759765625\n",
            "299 518.4965209960938\n",
            "399 204.34925842285156\n",
            "499 172.95484924316406\n",
            "599 151.12196350097656\n",
            "699 122.7550277709961\n",
            "799 90.3787841796875\n",
            "899 59.3159065246582\n",
            "999 34.75654983520508\n",
            "1099 19.07472801208496\n",
            "1199 11.50229263305664\n",
            "1299 9.16215991973877\n",
            "1399 8.832923889160156\n",
            "1499 8.827082633972168\n",
            "1599 8.831417083740234\n",
            "1699 12.119975090026855\n",
            "1799 8.930072784423828\n",
            "1899 8.964946746826172\n",
            "1999 8.898226737976074\n",
            "Result: y = 8.196273659777376e-10 + 0.8562785387039185 x + 1.3314771507566547e-09 x^2 + -0.0937945544719696 x^3\n"
          ]
        }
      ]
    },
    {
      "cell_type": "code",
      "source": [],
      "metadata": {
        "id": "pRWjkrnnO6bQ"
      },
      "execution_count": null,
      "outputs": []
    }
  ]
}